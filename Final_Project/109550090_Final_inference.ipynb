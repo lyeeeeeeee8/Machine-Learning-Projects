{
 "cells": [
  {
   "cell_type": "code",
   "execution_count": 4,
   "metadata": {},
   "outputs": [],
   "source": [
    "import os\n",
    "import pandas as pd \n",
    "import pickle\n",
    "import warnings; warnings.filterwarnings(\"ignore\")"
   ]
  },
  {
   "attachments": {},
   "cell_type": "markdown",
   "metadata": {},
   "source": [
    "## 1. Read files"
   ]
  },
  {
   "cell_type": "code",
   "execution_count": 5,
   "metadata": {},
   "outputs": [],
   "source": [
    "clf1 = pickle.load(open('model1.pkl', 'rb'))\n",
    "clf2 = pickle.load(open('model2.pkl', 'rb'))\n",
    "clf3 = pickle.load(open('model3.pkl', 'rb'))\n",
    "x_test = pd.read_csv('./x_test.csv')\n",
    "submitData = pd.read_csv('./sample_submission.csv')"
   ]
  },
  {
   "attachments": {},
   "cell_type": "markdown",
   "metadata": {},
   "source": [
    "## 2. Testing and output"
   ]
  },
  {
   "cell_type": "code",
   "execution_count": 6,
   "metadata": {},
   "outputs": [],
   "source": [
    "\n",
    "prediction1 = clf1.predict_proba(x_test)[:,1] * 0.8\n",
    "prediction2 = clf2.predict_proba(x_test)[:,1] * 0.1\n",
    "prediction3 = clf3.predict_proba(x_test)[:,1] * 0.1\n",
    "prediction = prediction1 + prediction2 + prediction3\n",
    "\n",
    "output = pd.DataFrame({'id': submitData.id, 'failure': prediction})\n",
    "output.to_csv('submission.csv', index=False)"
   ]
  }
 ],
 "metadata": {
  "kernelspec": {
   "display_name": "Python 3",
   "language": "python",
   "name": "python3"
  },
  "language_info": {
   "codemirror_mode": {
    "name": "ipython",
    "version": 3
   },
   "file_extension": ".py",
   "mimetype": "text/x-python",
   "name": "python",
   "nbconvert_exporter": "python",
   "pygments_lexer": "ipython3",
   "version": "3.6.8"
  },
  "orig_nbformat": 4,
  "vscode": {
   "interpreter": {
    "hash": "8074869614e4b8aa55888740e69548fb6c38e363f138255836d272297c58b9b8"
   }
  }
 },
 "nbformat": 4,
 "nbformat_minor": 2
}
